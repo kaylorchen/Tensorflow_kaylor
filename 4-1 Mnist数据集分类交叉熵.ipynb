{
 "cells": [
  {
   "cell_type": "code",
   "execution_count": 2,
   "metadata": {},
   "outputs": [
    {
     "name": "stdout",
     "output_type": "stream",
     "text": [
      "Extracting mnist/train-images-idx3-ubyte.gz\n",
      "Extracting mnist/train-labels-idx1-ubyte.gz\n",
      "Extracting mnist/t10k-images-idx3-ubyte.gz\n",
      "Extracting mnist/t10k-labels-idx1-ubyte.gz\n",
      "55000\n",
      "start\n",
      "Iter0, Testing accuracy: 0.9258\n",
      "Iter1, Testing accuracy: 0.929\n",
      "Iter2, Testing accuracy: 0.9305\n",
      "Iter3, Testing accuracy: 0.9308\n",
      "Iter4, Testing accuracy: 0.9309\n",
      "Iter5, Testing accuracy: 0.9313\n",
      "Iter6, Testing accuracy: 0.9313\n",
      "Iter7, Testing accuracy: 0.9311\n",
      "Iter8, Testing accuracy: 0.9307\n",
      "Iter9, Testing accuracy: 0.9304\n",
      "Iter10, Testing accuracy: 0.9298\n",
      "Iter11, Testing accuracy: 0.9296\n",
      "Iter12, Testing accuracy: 0.9298\n",
      "Iter13, Testing accuracy: 0.93\n",
      "Iter14, Testing accuracy: 0.93\n",
      "Iter15, Testing accuracy: 0.9301\n",
      "Iter16, Testing accuracy: 0.9302\n",
      "Iter17, Testing accuracy: 0.9311\n",
      "Iter18, Testing accuracy: 0.9313\n",
      "Iter19, Testing accuracy: 0.9311\n",
      "Iter20, Testing accuracy: 0.9317\n"
     ]
    }
   ],
   "source": [
    "import tensorflow as tf\n",
    "from tensorflow.examples.tutorials.mnist import input_data\n",
    "mnist = input_data.read_data_sets(\"mnist\",one_hot=True)\n",
    "\n",
    "batch_size = 100\n",
    "n_batch = mnist.train.num_examples\n",
    "print(n_batch)\n",
    "\n",
    "x = tf.placeholder(tf.float32,[None,784])\n",
    "y = tf.placeholder(tf.float32,[None,10])\n",
    "\n",
    "W = tf.Variable(tf.zeros([784,10]))\n",
    "b = tf.Variable(tf.zeros([10]))\n",
    "prediction = tf.nn.softmax(tf.matmul(x,W)+b)\n",
    "\n",
    "loss = tf.reduce_mean(tf.square(y-prediction))\n",
    "train_step = tf.train.GradientDescentOptimizer(0.2).minimize(loss)\n",
    "init = tf.global_variables_initializer()\n",
    "\n",
    "correct_prediction = tf.equal(tf.argmax(y,1),tf.argmax(prediction,1))\n",
    "\n",
    "accuracy = tf.reduce_mean(tf.cast(correct_prediction, tf.float32))\n",
    "\n",
    "print(\"start\")\n",
    "\n",
    "with tf.Session() as sess:\n",
    "    sess.run(init)\n",
    "    for epoch in range(21):\n",
    "        for batch in range(n_batch):\n",
    "            #print(\"batch = \" +str(batch))\n",
    "            batch_xs, batch_ys = mnist.train.next_batch(batch_size)\n",
    "            sess.run(train_step, feed_dict={x:batch_xs,y:batch_ys})\n",
    "            \n",
    "        acc = sess.run(accuracy, feed_dict={x:mnist.test.images,y:mnist.test.labels})\n",
    "        print(\"Iter\"+ str(epoch) +\", Testing accuracy: \" + str(acc))"
   ]
  },
  {
   "cell_type": "code",
   "execution_count": null,
   "metadata": {},
   "outputs": [],
   "source": []
  }
 ],
 "metadata": {
  "kernelspec": {
   "display_name": "os_python",
   "language": "python",
   "name": "os_python"
  },
  "language_info": {
   "codemirror_mode": {
    "name": "ipython",
    "version": 2
   },
   "file_extension": ".py",
   "mimetype": "text/x-python",
   "name": "python",
   "nbconvert_exporter": "python",
   "pygments_lexer": "ipython2",
   "version": "2.7.15+"
  }
 },
 "nbformat": 4,
 "nbformat_minor": 2
}
